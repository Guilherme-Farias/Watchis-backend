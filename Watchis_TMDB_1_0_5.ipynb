{
  "nbformat": 4,
  "nbformat_minor": 0,
  "metadata": {
    "colab": {
      "name": "Watchis TMDB 1.0.5.ipynb",
      "provenance": [],
      "collapsed_sections": [],
      "toc_visible": true
    },
    "kernelspec": {
      "name": "python3",
      "display_name": "Python 3"
    }
  },
  "cells": [
    {
      "cell_type": "markdown",
      "metadata": {
        "id": "7zQuJVIxIlwm"
      },
      "source": [
        "# <font color=4169E1> Watchis\n",
        "---\n",
        "**versão: 1.0.5**\n",
        "## Intro:\n",
        "\n",
        "  \n",
        "Watchis é um sistema com uso de machine-learning para recomendação de filmes. Vamos utilizar os seguintes datasets:\n",
        "<br>\n",
        "The Movies Datasets: <a href=\"https://www.kaggle.com/rounakbanik/the-movies-dataset\">Link para o dataset</a>\n",
        "<br>\n",
        "TMDB_5000: <a href=\"https://www.kaggle.com/tmdb/tmdb-movie-metadata\">Link para o dataset</a>\n",
        "\n",
        "\n",
        "## Sumário\n",
        "\n",
        "###1.Análise exploratória dos dados\n",
        "###2.Introdução ao Machine Learning\n",
        "\n",
        "**Documentação:** <a href=\"https://docs.google.com/document/d/1FQ8ZlsU1m7-uFC_SU_d6jtJEfITCK8wDmtYTDA20Z9o/edit\">Artigo Watchis</a>"
      ]
    },
    {
      "cell_type": "markdown",
      "metadata": {
        "id": "5-75m2QBNlr-"
      },
      "source": [
        "##<font color=4169E1>Importação das Bibliotecas e Datasets"
      ]
    },
    {
      "cell_type": "code",
      "metadata": {
        "id": "FYyf0h-oQYOP"
      },
      "source": [
        "!pip install seaborn==0.11.0 &> /dev/null\n",
        "!pip install -U pandas-profiling &> /dev/null\n",
        "!pip install scikit-surprise &> /dev/null\n",
        "import pandas as pd\n",
        "import numpy as np\n",
        "import matplotlib.pyplot as plt\n",
        "import seaborn as sns\n",
        "from ast import literal_eval\n",
        "from sklearn.feature_extraction.text import TfidfVectorizer #TF-IDF\n",
        "from sklearn.feature_extraction.text import CountVectorizer #Count\n",
        "from sklearn.metrics.pairwise import linear_kernel #Similaridade\n",
        "from sklearn.metrics.pairwise import cosine_similarity #Similaridade\n",
        "from surprise import Reader, Dataset, SVD\n",
        "from surprise.accuracy import rmse, mae\n",
        "from surprise.model_selection import cross_validate\n",
        "from collections import defaultdict\n",
        "\n",
        "\n",
        "from datetime import datetime\n",
        "from pandas_profiling import ProfileReport\n",
        "sns.set_theme(style=\"whitegrid\")"
      ],
      "execution_count": null,
      "outputs": []
    },
    {
      "cell_type": "code",
      "metadata": {
        "id": "2TZTv6TWQe4M"
      },
      "source": [
        "notas = pd.read_csv('https://raw.githubusercontent.com/Guilherme-Farias/Watchis-backend/datasets/ratings_tmdb_small.csv', low_memory=False)\n",
        "filmes = pd.read_csv('https://raw.githubusercontent.com/Guilherme-Farias/Watchis-backend/master/tmdb_5000_movies.csv', low_memory=False)\n",
        "creditos = pd.read_csv('https://raw.githubusercontent.com/Guilherme-Farias/Watchis-backend/master/tmdb_5000_credits.csv', low_memory=False)"
      ],
      "execution_count": null,
      "outputs": []
    },
    {
      "cell_type": "markdown",
      "metadata": {
        "id": "drk0AFPERu-T"
      },
      "source": [
        "## <font color=4169E1>Pré-processamento de dados"
      ]
    },
    {
      "cell_type": "code",
      "metadata": {
        "id": "SoS2hXK0RGDI"
      },
      "source": [
        "#Traduzindo as colunas\n",
        "notas.columns = [\"usuarioId\", \"filmeId\", \"nota\"]\n",
        "filmes.columns = ['orcamento', 'generos', 'pagina_inicial', 'filmeId', 'palavras_chave', 'idioma_original', 'titulo_original', 'visao_geral', 'popularidade', 'companhias_producao', 'paises_producao', 'data_lancamento', 'receita', 'tempo_de_filme', 'lingua_falada', 'status', 'slogan', 'titulo', 'media_notas', 'total_notas']\n",
        "creditos.columns = ['filmeId', 'titulo', 'elenco', 'equipe']\n",
        "\n",
        "#Transformando ID's em int\n",
        "filmes['filmeId'] = filmes['filmeId'].astype('int')\n",
        "creditos['filmeId'] = creditos['filmeId'].astype('int')\n",
        "notas['filmeId'] = notas['filmeId'].astype('int')\n",
        "\n",
        "#Unindo Datasets\n",
        "filmes = filmes.merge(creditos[['filmeId','elenco','equipe']], on='filmeId')\n",
        "\n",
        "#Tirando colunas que não vamos utilizar\n",
        "filmes.drop(labels = ['pagina_inicial'], axis='columns', inplace=True)\n",
        "filmes.titulo.drop_duplicates(inplace=True)\n",
        "\n",
        "# Colocando as colunas em uma ordem mais sintática\n",
        "filmes = filmes.reindex(columns = ['filmeId', 'titulo','titulo_original','data_lancamento','visao_geral',\n",
        "                                   'slogan','generos', 'palavras_chave', 'tempo_de_filme', 'idioma_original','lingua_falada','companhias_producao',\n",
        "                                   'paises_producao', 'orcamento', 'receita','status',  'media_notas','total_notas','popularidade', \n",
        "                                   'elenco', 'equipe'])\n",
        "# Transformando tipos\n",
        "filmes['receita'] = filmes['receita'].astype(int)\n",
        "filmes['orcamento'] = filmes['orcamento'].astype(int)\n",
        "filmes['popularidade'] = filmes['popularidade'].astype(int)\n",
        "filmes['tempo_de_filme'] = pd.to_timedelta(filmes['tempo_de_filme'], unit='m')\n",
        "filmes['data_lancamento'] = pd.to_datetime(filmes['data_lancamento'], format='%Y/%m/%d', errors='coerce')"
      ],
      "execution_count": null,
      "outputs": []
    },
    {
      "cell_type": "code",
      "metadata": {
        "id": "EJim3TyISTMr"
      },
      "source": [
        "# Pega o diretor da lista de equipe\n",
        "def get_diretor(x):\n",
        "    for i in x:\n",
        "        if i['job'] == 'Director':\n",
        "            return i['name']\n",
        "    return np.nan\n",
        "\n",
        "# Colunas que iremos transformar de string de Json, para dicionario de python e depois para lista do python\n",
        "colunas = ['elenco', 'generos', 'lingua_falada', 'paises_producao', 'companhias_producao', 'palavras_chave']\n",
        "\n",
        "for coluna in colunas:\n",
        "  filmes[coluna] = filmes[coluna].fillna('[]').apply(literal_eval)\n",
        "  filmes[coluna] = filmes[coluna].apply(lambda x: [i['name'] for i in x] if isinstance(x, list) else [])\n",
        "\n",
        "\n",
        "# Tratando dados do diretor\n",
        "filmes['equipe'] = filmes['equipe'].fillna('[]').apply(literal_eval)\n",
        "filmes['diretor'] = filmes['equipe'].apply(get_diretor)\n",
        "filmes['diretor'].fillna('',inplace = True)\n",
        "filmes.drop(['equipe'],axis = 1,inplace = True)"
      ],
      "execution_count": null,
      "outputs": []
    },
    {
      "cell_type": "code",
      "metadata": {
        "id": "7yJ3Q7kQUV4m"
      },
      "source": [
        "#Trocando NaN com uma String vazia\n",
        "filmes['visao_geral'] = filmes['visao_geral'].fillna('')\n",
        "filmes['slogan'] = filmes['slogan'].fillna('')"
      ],
      "execution_count": null,
      "outputs": []
    },
    {
      "cell_type": "markdown",
      "metadata": {
        "id": "nFryIWLvQiiu"
      },
      "source": [
        "##<font color=4169E1> Pandas Profiling nos dados de filmes"
      ]
    },
    {
      "cell_type": "code",
      "metadata": {
        "id": "6j4tDyABUwH0"
      },
      "source": [
        "# profile = ProfileReport(filmes, title='Profiling Movies',html={'style':{'full_width':True}})\n",
        "# profile.to_notebook_iframe()"
      ],
      "execution_count": null,
      "outputs": []
    },
    {
      "cell_type": "code",
      "metadata": {
        "id": "jYMp-NLtfErX"
      },
      "source": [
        "# profile = ProfileReport(notas, title='Profiling Ratings',html={'style':{'full_width':True}})\n",
        "# profile.to_notebook_iframe()"
      ],
      "execution_count": null,
      "outputs": []
    },
    {
      "cell_type": "markdown",
      "metadata": {
        "id": "0OJ4ERTFRb5C"
      },
      "source": [
        "# <font color=4169E1> Avaliação ponderada"
      ]
    },
    {
      "cell_type": "markdown",
      "metadata": {
        "id": "siIPR_xfPTnK"
      },
      "source": [
        "## <font color=4169E1> Função"
      ]
    },
    {
      "cell_type": "code",
      "metadata": {
        "id": "R3xZhL3oRXua",
        "outputId": "07529f08-6214-480c-ea75-3397cf0546b4",
        "colab": {
          "base_uri": "https://localhost:8080/",
          "height": 52
        }
      },
      "source": [
        "# Pegando variaveis para utilizar na próxima fórmula\n",
        "C = filmes.media_notas.mean()\n",
        "m = filmes.total_notas.quantile(0.95)\n",
        "print(f'Média das notas médias(C): {C}\\nMínimo de votos(m): {m}')"
      ],
      "execution_count": null,
      "outputs": [
        {
          "output_type": "stream",
          "text": [
            "Média das notas médias(C): 6.092171559442011\n",
            "Mínimo de votos(m): 3040.8999999999996\n"
          ],
          "name": "stdout"
        }
      ]
    },
    {
      "cell_type": "code",
      "metadata": {
        "id": "MB3IUW5jUNa5"
      },
      "source": [
        "# Baseado na formula do IMDB\n",
        "def avaliacao_ponderada(df, m=m, c=C):\n",
        "  v = df['total_notas']\n",
        "  R = df['media_notas']\n",
        "  return (v/(v+m) * R) + (m/(m+v) * C)"
      ],
      "execution_count": null,
      "outputs": []
    },
    {
      "cell_type": "markdown",
      "metadata": {
        "id": "EUvbGKzQPWYz"
      },
      "source": [
        "## <font color=4169E1> Recomendação"
      ]
    },
    {
      "cell_type": "code",
      "metadata": {
        "id": "NhPixhr9PWJB",
        "outputId": "c0ebe318-fa5b-49e0-95a5-28a8c449692b",
        "colab": {
          "base_uri": "https://localhost:8080/",
          "height": 487
        }
      },
      "source": [
        "# Pegando os filmes com uma quantidade minima de votos\n",
        "filmes_com_mais_de_m_votos = filmes.copy().loc[filmes['total_notas'] >= m]\n",
        "filmes_com_mais_de_m_votos['avaliacao_ponderada'] = filmes_com_mais_de_m_votos.apply(avaliacao_ponderada, axis=1);\n",
        "filmes_com_mais_de_m_votos = filmes_com_mais_de_m_votos.sort_values('avaliacao_ponderada', ascending=False)\n",
        "filmes_com_mais_de_m_votos[['titulo', 'total_notas', 'media_notas', 'avaliacao_ponderada']].head(15)"
      ],
      "execution_count": null,
      "outputs": [
        {
          "output_type": "execute_result",
          "data": {
            "text/html": [
              "<div>\n",
              "<style scoped>\n",
              "    .dataframe tbody tr th:only-of-type {\n",
              "        vertical-align: middle;\n",
              "    }\n",
              "\n",
              "    .dataframe tbody tr th {\n",
              "        vertical-align: top;\n",
              "    }\n",
              "\n",
              "    .dataframe thead th {\n",
              "        text-align: right;\n",
              "    }\n",
              "</style>\n",
              "<table border=\"1\" class=\"dataframe\">\n",
              "  <thead>\n",
              "    <tr style=\"text-align: right;\">\n",
              "      <th></th>\n",
              "      <th>titulo</th>\n",
              "      <th>total_notas</th>\n",
              "      <th>media_notas</th>\n",
              "      <th>avaliacao_ponderada</th>\n",
              "    </tr>\n",
              "  </thead>\n",
              "  <tbody>\n",
              "    <tr>\n",
              "      <th>1881</th>\n",
              "      <td>The Shawshank Redemption</td>\n",
              "      <td>8205</td>\n",
              "      <td>8.5</td>\n",
              "      <td>7.848921</td>\n",
              "    </tr>\n",
              "    <tr>\n",
              "      <th>65</th>\n",
              "      <td>The Dark Knight</td>\n",
              "      <td>12002</td>\n",
              "      <td>8.2</td>\n",
              "      <td>7.773906</td>\n",
              "    </tr>\n",
              "    <tr>\n",
              "      <th>662</th>\n",
              "      <td>Fight Club</td>\n",
              "      <td>9413</td>\n",
              "      <td>8.3</td>\n",
              "      <td>7.760909</td>\n",
              "    </tr>\n",
              "    <tr>\n",
              "      <th>96</th>\n",
              "      <td>Inception</td>\n",
              "      <td>13752</td>\n",
              "      <td>8.1</td>\n",
              "      <td>7.736417</td>\n",
              "    </tr>\n",
              "    <tr>\n",
              "      <th>3232</th>\n",
              "      <td>Pulp Fiction</td>\n",
              "      <td>8428</td>\n",
              "      <td>8.3</td>\n",
              "      <td>7.714609</td>\n",
              "    </tr>\n",
              "    <tr>\n",
              "      <th>95</th>\n",
              "      <td>Interstellar</td>\n",
              "      <td>10867</td>\n",
              "      <td>8.1</td>\n",
              "      <td>7.660997</td>\n",
              "    </tr>\n",
              "    <tr>\n",
              "      <th>809</th>\n",
              "      <td>Forrest Gump</td>\n",
              "      <td>7927</td>\n",
              "      <td>8.2</td>\n",
              "      <td>7.615595</td>\n",
              "    </tr>\n",
              "    <tr>\n",
              "      <th>3337</th>\n",
              "      <td>The Godfather</td>\n",
              "      <td>5893</td>\n",
              "      <td>8.4</td>\n",
              "      <td>7.614467</td>\n",
              "    </tr>\n",
              "    <tr>\n",
              "      <th>329</th>\n",
              "      <td>The Lord of the Rings: The Return of the King</td>\n",
              "      <td>8064</td>\n",
              "      <td>8.1</td>\n",
              "      <td>7.550188</td>\n",
              "    </tr>\n",
              "    <tr>\n",
              "      <th>262</th>\n",
              "      <td>The Lord of the Rings: The Fellowship of the Ring</td>\n",
              "      <td>8705</td>\n",
              "      <td>8.0</td>\n",
              "      <td>7.506082</td>\n",
              "    </tr>\n",
              "    <tr>\n",
              "      <th>1990</th>\n",
              "      <td>The Empire Strikes Back</td>\n",
              "      <td>5879</td>\n",
              "      <td>8.2</td>\n",
              "      <td>7.481416</td>\n",
              "    </tr>\n",
              "    <tr>\n",
              "      <th>94</th>\n",
              "      <td>Guardians of the Galaxy</td>\n",
              "      <td>9742</td>\n",
              "      <td>7.9</td>\n",
              "      <td>7.469939</td>\n",
              "    </tr>\n",
              "    <tr>\n",
              "      <th>2912</th>\n",
              "      <td>Star Wars</td>\n",
              "      <td>6624</td>\n",
              "      <td>8.1</td>\n",
              "      <td>7.468270</td>\n",
              "    </tr>\n",
              "    <tr>\n",
              "      <th>330</th>\n",
              "      <td>The Lord of the Rings: The Two Towers</td>\n",
              "      <td>7487</td>\n",
              "      <td>8.0</td>\n",
              "      <td>7.448939</td>\n",
              "    </tr>\n",
              "    <tr>\n",
              "      <th>634</th>\n",
              "      <td>The Matrix</td>\n",
              "      <td>8907</td>\n",
              "      <td>7.9</td>\n",
              "      <td>7.439884</td>\n",
              "    </tr>\n",
              "  </tbody>\n",
              "</table>\n",
              "</div>"
            ],
            "text/plain": [
              "                                                 titulo  ...  avaliacao_ponderada\n",
              "1881                           The Shawshank Redemption  ...             7.848921\n",
              "65                                      The Dark Knight  ...             7.773906\n",
              "662                                          Fight Club  ...             7.760909\n",
              "96                                            Inception  ...             7.736417\n",
              "3232                                       Pulp Fiction  ...             7.714609\n",
              "95                                         Interstellar  ...             7.660997\n",
              "809                                        Forrest Gump  ...             7.615595\n",
              "3337                                      The Godfather  ...             7.614467\n",
              "329       The Lord of the Rings: The Return of the King  ...             7.550188\n",
              "262   The Lord of the Rings: The Fellowship of the Ring  ...             7.506082\n",
              "1990                            The Empire Strikes Back  ...             7.481416\n",
              "94                              Guardians of the Galaxy  ...             7.469939\n",
              "2912                                          Star Wars  ...             7.468270\n",
              "330               The Lord of the Rings: The Two Towers  ...             7.448939\n",
              "634                                          The Matrix  ...             7.439884\n",
              "\n",
              "[15 rows x 4 columns]"
            ]
          },
          "metadata": {
            "tags": []
          },
          "execution_count": 10
        }
      ]
    },
    {
      "cell_type": "markdown",
      "metadata": {
        "id": "cwU3q86gQwfv"
      },
      "source": [
        "# <font color=4169E1> Baseado em conteudo"
      ]
    },
    {
      "cell_type": "code",
      "metadata": {
        "id": "KkaYYOdCTvPC"
      },
      "source": [
        "# Pegando os indices dos filmes\n",
        "indices = pd.Series(filmes.index, index=filmes['titulo']).drop_duplicates()"
      ],
      "execution_count": null,
      "outputs": []
    },
    {
      "cell_type": "markdown",
      "metadata": {
        "id": "kY3qe3sLSkM5"
      },
      "source": [
        "## <font color=4169E1> Função"
      ]
    },
    {
      "cell_type": "markdown",
      "metadata": {
        "id": "8sUvhILxPqpI"
      },
      "source": [
        "### <font color=4169E1>  CBF sem verificação"
      ]
    },
    {
      "cell_type": "code",
      "metadata": {
        "id": "xQowMD3dSL_K"
      },
      "source": [
        "def normal_CBF(titulo, similaridade):\n",
        "  # Pega o Index do filme pelo título(Index != Id)\n",
        "  idx = indices[titulo]\n",
        "\n",
        "  # Pega a similaridade de acordo com esse Id nessa matrix de similaridades\n",
        "  sim_scores = list(enumerate(similaridade[idx]))\n",
        "\n",
        "  # Copia a base de filmes, para por um campo de similaridade para esse filme especifico\n",
        "  filmes_similares = filmes.copy()\n",
        "  filmes_similares['grau_de_similaridade'] = pd.Series(sim_scores).apply(lambda x: x[1])\n",
        "\n",
        "  # Ordena os os filmes de maior similaridade à menor similaridade\n",
        "  sim_scores = sorted(sim_scores, key=lambda x: x[1], reverse=True)\n",
        "\n",
        "  # Pega os 10 filmes mais similares(tirando o primeiro, pois o primeiro é ele)\n",
        "  sim_scores = sim_scores[1:11]\n",
        "\n",
        "  # Pega o Index dos filmes\n",
        "  filme_indices = [i[0] for i in sim_scores]\n",
        "\n",
        "  # Retorna os dez filmes mais similares\n",
        "  return filmes_similares[['titulo', 'data_lancamento','total_notas', 'media_notas', 'grau_de_similaridade']].iloc[filme_indices]"
      ],
      "execution_count": null,
      "outputs": []
    },
    {
      "cell_type": "markdown",
      "metadata": {
        "id": "WCevn--SPzoq"
      },
      "source": [
        "### <font color=4169E1> CFB verificando os melhores filmes"
      ]
    },
    {
      "cell_type": "code",
      "metadata": {
        "id": "Q0WeD9g_VLLJ"
      },
      "source": [
        "def avaliacao_ponderada_CBF(titulo, similaridade):\n",
        "  # Pega o Index do filme pelo título(Index != Id)\n",
        "  idx = indices[titulo]\n",
        "\n",
        "  # Pega a similaridade de acordo com esse Id nessa matrix de similaridades\n",
        "  sim_scores = list(enumerate(similaridade[idx]))\n",
        "\n",
        "  # Copia a base de filmes, para por um campo de similaridade para esse filme especifico\n",
        "  filmes_similares = filmes.copy()\n",
        "  filmes_similares['grau_de_similaridade'] = pd.Series(sim_scores).apply(lambda x: x[1])\n",
        "\n",
        "  # Ordena os os filmes de maior similaridade à menor similaridade\n",
        "  sim_scores = sorted(sim_scores, key=lambda x: x[1], reverse=True)\n",
        "\n",
        "  # Pega os 100 filmes mais similares(tirando o primeiro, pois o primeiro é ele)\n",
        "  sim_scores = sim_scores[1:101]\n",
        "\n",
        "  # Pega o Index dos filmes\n",
        "  filme_indices = [i[0] for i in sim_scores]\n",
        "\n",
        "  # Pega os dados inteiros dos 100 filmes mais similares\n",
        "  filmes_similares = filmes_similares.iloc[filme_indices][['titulo', 'total_notas', 'media_notas', 'data_lancamento']]\n",
        "\n",
        "  # Prepara os dados para avaliação ponderada\n",
        "  C = filmes_similares.media_notas.mean()\n",
        "  m = filmes_similares.total_notas.quantile(0.60)\n",
        "\n",
        "  # Faz a valiação ponderada com os 100 filmes mais similares\n",
        "  filmes_similares = filmes_similares.loc[filmes_similares['total_notas'] >= m]\n",
        "  filmes_similares['avaliacao_ponderada'] = filmes_similares.apply(avaliacao_ponderada, axis=1);\n",
        "\n",
        "  # Retorna os dez filmes mais similares de acordo com sua avaliação ponderada\n",
        "  return filmes_similares.sort_values('avaliacao_ponderada', ascending=False).head(15)"
      ],
      "execution_count": null,
      "outputs": []
    },
    {
      "cell_type": "markdown",
      "metadata": {
        "id": "fr5biwlTPzUe"
      },
      "source": [
        "### <font color=4169E1> CFB verificando a similaridade com a quantidade de notas"
      ]
    },
    {
      "cell_type": "code",
      "metadata": {
        "id": "pT8vzavlcALE"
      },
      "source": [
        "def similaridade_ponderada(df, m=m, C=C):\n",
        "  v = df['total_notas']\n",
        "  R = df['grau_de_similaridade']\n",
        "  return (v/(v+m) * R) + (m/(m+v) * C)"
      ],
      "execution_count": null,
      "outputs": []
    },
    {
      "cell_type": "code",
      "metadata": {
        "id": "D12-Ob3aWeqG"
      },
      "source": [
        "def similaridade_ponderada_CBF(titulo, similaridade):\n",
        "  # Pega o Index do filme pelo título(Index != Id)\n",
        "  idx = indices[titulo]\n",
        "\n",
        "  # Pega a similaridade de acordo com esse Id nessa matrix de similaridades\n",
        "  sim_scores = list(enumerate(similaridade[idx]))\n",
        "\n",
        "  # Copia a base de filmes, para por um campo de similaridade para esse filme especifico\n",
        "  filmes_similares = filmes.copy()\n",
        "  filmes_similares['grau_de_similaridade'] = pd.Series(sim_scores).apply(lambda x: x[1])\n",
        "  filmes_similares = filmes_similares[['titulo', 'total_notas', 'media_notas', 'grau_de_similaridade']]\n",
        "  \n",
        "  # Preparando valores para uma similaridade ponderada envolvendo o total de votos de usuário\n",
        "  m = filmes_similares.total_notas.quantile(0.10)\n",
        "  C = filmes_similares.grau_de_similaridade.mean()\n",
        "\n",
        "  # Faz a similaridade ponderada\n",
        "  filmes_similares['similaridade_ponderada'] = filmes_similares.apply(similaridade_ponderada, args=(m, C), axis=1)\n",
        "\n",
        "\n",
        "  # Retorna os dez filmes mais similares de acordo com essa \"similaridade ponderada\"\n",
        "  return filmes_similares.sort_values('similaridade_ponderada', ascending=False)[1:11]"
      ],
      "execution_count": null,
      "outputs": []
    },
    {
      "cell_type": "markdown",
      "metadata": {
        "id": "ly6U_KtgSAbQ"
      },
      "source": [
        "## <font color=4169E1> Similaridades"
      ]
    },
    {
      "cell_type": "markdown",
      "metadata": {
        "id": "baWj5BVdzBmL"
      },
      "source": [
        "### <font color=4169E1> Baseado em conteudo focado na visão geral"
      ]
    },
    {
      "cell_type": "code",
      "metadata": {
        "id": "gzxzXVNozBmO",
        "outputId": "76482122-a078-49a7-93b2-55cce8f443e9",
        "colab": {
          "base_uri": "https://localhost:8080/",
          "height": 35
        }
      },
      "source": [
        "#TF-IDF Tira todas as palavras em inglês que mais se repetem\n",
        "tfidf = TfidfVectorizer(stop_words='english')\n",
        "\n",
        "# Constroi a Matrix \n",
        "tfidf_matrix = tfidf.fit_transform(filmes['visao_geral'])\n",
        "\n",
        "# Mostra o tamanho da Matrix\n",
        "tfidf_matrix.shape"
      ],
      "execution_count": null,
      "outputs": [
        {
          "output_type": "execute_result",
          "data": {
            "text/plain": [
              "(4803, 20978)"
            ]
          },
          "metadata": {
            "tags": []
          },
          "execution_count": 16
        }
      ]
    },
    {
      "cell_type": "code",
      "metadata": {
        "id": "E4TcBVlczBmZ"
      },
      "source": [
        "# Verifica a similaridade dentro da Matrix\n",
        "similaridade_1 = linear_kernel(tfidf_matrix, tfidf_matrix)"
      ],
      "execution_count": null,
      "outputs": []
    },
    {
      "cell_type": "markdown",
      "metadata": {
        "id": "3m9jbKk_cW2E"
      },
      "source": [
        "#### <font color=4169E1> Exemplo 1"
      ]
    },
    {
      "cell_type": "code",
      "metadata": {
        "id": "qsawf4sMcbfd",
        "outputId": "789e864b-4e7a-40b1-d86b-30a15f42ee1b",
        "colab": {
          "base_uri": "https://localhost:8080/",
          "height": 340
        }
      },
      "source": [
        "normal_CBF('The Dark Knight', similaridade_1)"
      ],
      "execution_count": null,
      "outputs": [
        {
          "output_type": "execute_result",
          "data": {
            "text/html": [
              "<div>\n",
              "<style scoped>\n",
              "    .dataframe tbody tr th:only-of-type {\n",
              "        vertical-align: middle;\n",
              "    }\n",
              "\n",
              "    .dataframe tbody tr th {\n",
              "        vertical-align: top;\n",
              "    }\n",
              "\n",
              "    .dataframe thead th {\n",
              "        text-align: right;\n",
              "    }\n",
              "</style>\n",
              "<table border=\"1\" class=\"dataframe\">\n",
              "  <thead>\n",
              "    <tr style=\"text-align: right;\">\n",
              "      <th></th>\n",
              "      <th>titulo</th>\n",
              "      <th>data_lancamento</th>\n",
              "      <th>total_notas</th>\n",
              "      <th>media_notas</th>\n",
              "      <th>grau_de_similaridade</th>\n",
              "    </tr>\n",
              "  </thead>\n",
              "  <tbody>\n",
              "    <tr>\n",
              "      <th>3</th>\n",
              "      <td>The Dark Knight Rises</td>\n",
              "      <td>2012-07-16</td>\n",
              "      <td>9106</td>\n",
              "      <td>7.6</td>\n",
              "      <td>0.301512</td>\n",
              "    </tr>\n",
              "    <tr>\n",
              "      <th>428</th>\n",
              "      <td>Batman Returns</td>\n",
              "      <td>1992-06-19</td>\n",
              "      <td>1673</td>\n",
              "      <td>6.6</td>\n",
              "      <td>0.249431</td>\n",
              "    </tr>\n",
              "    <tr>\n",
              "      <th>3854</th>\n",
              "      <td>Batman: The Dark Knight Returns, Part 2</td>\n",
              "      <td>2013-01-18</td>\n",
              "      <td>419</td>\n",
              "      <td>7.9</td>\n",
              "      <td>0.224516</td>\n",
              "    </tr>\n",
              "    <tr>\n",
              "      <th>299</th>\n",
              "      <td>Batman Forever</td>\n",
              "      <td>1995-05-31</td>\n",
              "      <td>1498</td>\n",
              "      <td>5.2</td>\n",
              "      <td>0.214070</td>\n",
              "    </tr>\n",
              "    <tr>\n",
              "      <th>1359</th>\n",
              "      <td>Batman</td>\n",
              "      <td>1989-06-23</td>\n",
              "      <td>2096</td>\n",
              "      <td>7.0</td>\n",
              "      <td>0.182334</td>\n",
              "    </tr>\n",
              "    <tr>\n",
              "      <th>119</th>\n",
              "      <td>Batman Begins</td>\n",
              "      <td>2005-06-10</td>\n",
              "      <td>7359</td>\n",
              "      <td>7.5</td>\n",
              "      <td>0.162037</td>\n",
              "    </tr>\n",
              "    <tr>\n",
              "      <th>1181</th>\n",
              "      <td>JFK</td>\n",
              "      <td>1991-12-20</td>\n",
              "      <td>502</td>\n",
              "      <td>7.5</td>\n",
              "      <td>0.134627</td>\n",
              "    </tr>\n",
              "    <tr>\n",
              "      <th>9</th>\n",
              "      <td>Batman v Superman: Dawn of Justice</td>\n",
              "      <td>2016-03-23</td>\n",
              "      <td>7004</td>\n",
              "      <td>5.7</td>\n",
              "      <td>0.118637</td>\n",
              "    </tr>\n",
              "    <tr>\n",
              "      <th>2507</th>\n",
              "      <td>Slow Burn</td>\n",
              "      <td>2005-09-12</td>\n",
              "      <td>16</td>\n",
              "      <td>5.5</td>\n",
              "      <td>0.113738</td>\n",
              "    </tr>\n",
              "    <tr>\n",
              "      <th>210</th>\n",
              "      <td>Batman &amp; Robin</td>\n",
              "      <td>1997-06-20</td>\n",
              "      <td>1418</td>\n",
              "      <td>4.2</td>\n",
              "      <td>0.106896</td>\n",
              "    </tr>\n",
              "  </tbody>\n",
              "</table>\n",
              "</div>"
            ],
            "text/plain": [
              "                                       titulo  ... grau_de_similaridade\n",
              "3                       The Dark Knight Rises  ...             0.301512\n",
              "428                            Batman Returns  ...             0.249431\n",
              "3854  Batman: The Dark Knight Returns, Part 2  ...             0.224516\n",
              "299                            Batman Forever  ...             0.214070\n",
              "1359                                   Batman  ...             0.182334\n",
              "119                             Batman Begins  ...             0.162037\n",
              "1181                                      JFK  ...             0.134627\n",
              "9          Batman v Superman: Dawn of Justice  ...             0.118637\n",
              "2507                                Slow Burn  ...             0.113738\n",
              "210                            Batman & Robin  ...             0.106896\n",
              "\n",
              "[10 rows x 5 columns]"
            ]
          },
          "metadata": {
            "tags": []
          },
          "execution_count": 18
        }
      ]
    },
    {
      "cell_type": "markdown",
      "metadata": {
        "id": "yUJtnsq0cbya"
      },
      "source": [
        "#### <font color=4169E1> Exemplo 2"
      ]
    },
    {
      "cell_type": "code",
      "metadata": {
        "id": "9g5EPWhnceme",
        "outputId": "7e5c227f-a820-49bc-bb87-a1461dd583ea",
        "colab": {
          "base_uri": "https://localhost:8080/",
          "height": 487
        }
      },
      "source": [
        "avaliacao_ponderada_CBF('The Dark Knight', similaridade_1)"
      ],
      "execution_count": null,
      "outputs": [
        {
          "output_type": "execute_result",
          "data": {
            "text/html": [
              "<div>\n",
              "<style scoped>\n",
              "    .dataframe tbody tr th:only-of-type {\n",
              "        vertical-align: middle;\n",
              "    }\n",
              "\n",
              "    .dataframe tbody tr th {\n",
              "        vertical-align: top;\n",
              "    }\n",
              "\n",
              "    .dataframe thead th {\n",
              "        text-align: right;\n",
              "    }\n",
              "</style>\n",
              "<table border=\"1\" class=\"dataframe\">\n",
              "  <thead>\n",
              "    <tr style=\"text-align: right;\">\n",
              "      <th></th>\n",
              "      <th>titulo</th>\n",
              "      <th>total_notas</th>\n",
              "      <th>media_notas</th>\n",
              "      <th>data_lancamento</th>\n",
              "      <th>avaliacao_ponderada</th>\n",
              "    </tr>\n",
              "  </thead>\n",
              "  <tbody>\n",
              "    <tr>\n",
              "      <th>571</th>\n",
              "      <td>Inglourious Basterds</td>\n",
              "      <td>6430</td>\n",
              "      <td>7.9</td>\n",
              "      <td>2009-08-18</td>\n",
              "      <td>7.319546</td>\n",
              "    </tr>\n",
              "    <tr>\n",
              "      <th>3</th>\n",
              "      <td>The Dark Knight Rises</td>\n",
              "      <td>9106</td>\n",
              "      <td>7.6</td>\n",
              "      <td>2012-07-16</td>\n",
              "      <td>7.222525</td>\n",
              "    </tr>\n",
              "    <tr>\n",
              "      <th>351</th>\n",
              "      <td>The Departed</td>\n",
              "      <td>4339</td>\n",
              "      <td>7.9</td>\n",
              "      <td>2006-10-05</td>\n",
              "      <td>7.155081</td>\n",
              "    </tr>\n",
              "    <tr>\n",
              "      <th>119</th>\n",
              "      <td>Batman Begins</td>\n",
              "      <td>7359</td>\n",
              "      <td>7.5</td>\n",
              "      <td>2005-06-10</td>\n",
              "      <td>7.088355</td>\n",
              "    </tr>\n",
              "    <tr>\n",
              "      <th>82</th>\n",
              "      <td>Dawn of the Planet of the Apes</td>\n",
              "      <td>4410</td>\n",
              "      <td>7.3</td>\n",
              "      <td>2014-06-26</td>\n",
              "      <td>6.807055</td>\n",
              "    </tr>\n",
              "    <tr>\n",
              "      <th>506</th>\n",
              "      <td>Despicable Me 2</td>\n",
              "      <td>4637</td>\n",
              "      <td>7.0</td>\n",
              "      <td>2013-06-25</td>\n",
              "      <td>6.640447</td>\n",
              "    </tr>\n",
              "    <tr>\n",
              "      <th>205</th>\n",
              "      <td>Sherlock Holmes: A Game of Shadows</td>\n",
              "      <td>3886</td>\n",
              "      <td>7.0</td>\n",
              "      <td>2011-11-22</td>\n",
              "      <td>6.601465</td>\n",
              "    </tr>\n",
              "    <tr>\n",
              "      <th>531</th>\n",
              "      <td>The Man from U.N.C.L.E.</td>\n",
              "      <td>2265</td>\n",
              "      <td>7.1</td>\n",
              "      <td>2015-08-13</td>\n",
              "      <td>6.522397</td>\n",
              "    </tr>\n",
              "    <tr>\n",
              "      <th>2585</th>\n",
              "      <td>The Hurt Locker</td>\n",
              "      <td>1840</td>\n",
              "      <td>7.2</td>\n",
              "      <td>2008-10-10</td>\n",
              "      <td>6.509800</td>\n",
              "    </tr>\n",
              "    <tr>\n",
              "      <th>2536</th>\n",
              "      <td>The Deer Hunter</td>\n",
              "      <td>921</td>\n",
              "      <td>7.8</td>\n",
              "      <td>1978-12-08</td>\n",
              "      <td>6.489181</td>\n",
              "    </tr>\n",
              "    <tr>\n",
              "      <th>1758</th>\n",
              "      <td>Lucky Number Slevin</td>\n",
              "      <td>1323</td>\n",
              "      <td>7.4</td>\n",
              "      <td>2006-02-24</td>\n",
              "      <td>6.488665</td>\n",
              "    </tr>\n",
              "    <tr>\n",
              "      <th>1359</th>\n",
              "      <td>Batman</td>\n",
              "      <td>2096</td>\n",
              "      <td>7.0</td>\n",
              "      <td>1989-06-23</td>\n",
              "      <td>6.462591</td>\n",
              "    </tr>\n",
              "    <tr>\n",
              "      <th>879</th>\n",
              "      <td>Law Abiding Citizen</td>\n",
              "      <td>1486</td>\n",
              "      <td>7.2</td>\n",
              "      <td>2009-10-15</td>\n",
              "      <td>6.455827</td>\n",
              "    </tr>\n",
              "    <tr>\n",
              "      <th>3075</th>\n",
              "      <td>Crash</td>\n",
              "      <td>1149</td>\n",
              "      <td>7.2</td>\n",
              "      <td>2004-01-13</td>\n",
              "      <td>6.395972</td>\n",
              "    </tr>\n",
              "    <tr>\n",
              "      <th>2282</th>\n",
              "      <td>Scream</td>\n",
              "      <td>1476</td>\n",
              "      <td>7.0</td>\n",
              "      <td>1996-12-20</td>\n",
              "      <td>6.388825</td>\n",
              "    </tr>\n",
              "  </tbody>\n",
              "</table>\n",
              "</div>"
            ],
            "text/plain": [
              "                                  titulo  ...  avaliacao_ponderada\n",
              "571                 Inglourious Basterds  ...             7.319546\n",
              "3                  The Dark Knight Rises  ...             7.222525\n",
              "351                         The Departed  ...             7.155081\n",
              "119                        Batman Begins  ...             7.088355\n",
              "82        Dawn of the Planet of the Apes  ...             6.807055\n",
              "506                      Despicable Me 2  ...             6.640447\n",
              "205   Sherlock Holmes: A Game of Shadows  ...             6.601465\n",
              "531              The Man from U.N.C.L.E.  ...             6.522397\n",
              "2585                     The Hurt Locker  ...             6.509800\n",
              "2536                     The Deer Hunter  ...             6.489181\n",
              "1758                 Lucky Number Slevin  ...             6.488665\n",
              "1359                              Batman  ...             6.462591\n",
              "879                  Law Abiding Citizen  ...             6.455827\n",
              "3075                               Crash  ...             6.395972\n",
              "2282                              Scream  ...             6.388825\n",
              "\n",
              "[15 rows x 5 columns]"
            ]
          },
          "metadata": {
            "tags": []
          },
          "execution_count": 19
        }
      ]
    },
    {
      "cell_type": "markdown",
      "metadata": {
        "id": "31Z__-SLccAr"
      },
      "source": [
        "#### <font color=4169E1> Exemplo 3"
      ]
    },
    {
      "cell_type": "code",
      "metadata": {
        "id": "KU3DKdVgcfUR",
        "outputId": "0858a9fb-f881-4b90-d333-a0529cc279f8",
        "colab": {
          "base_uri": "https://localhost:8080/",
          "height": 340
        }
      },
      "source": [
        "similaridade_ponderada_CBF('The Dark Knight', similaridade_1)"
      ],
      "execution_count": null,
      "outputs": [
        {
          "output_type": "execute_result",
          "data": {
            "text/html": [
              "<div>\n",
              "<style scoped>\n",
              "    .dataframe tbody tr th:only-of-type {\n",
              "        vertical-align: middle;\n",
              "    }\n",
              "\n",
              "    .dataframe tbody tr th {\n",
              "        vertical-align: top;\n",
              "    }\n",
              "\n",
              "    .dataframe thead th {\n",
              "        text-align: right;\n",
              "    }\n",
              "</style>\n",
              "<table border=\"1\" class=\"dataframe\">\n",
              "  <thead>\n",
              "    <tr style=\"text-align: right;\">\n",
              "      <th></th>\n",
              "      <th>titulo</th>\n",
              "      <th>total_notas</th>\n",
              "      <th>media_notas</th>\n",
              "      <th>grau_de_similaridade</th>\n",
              "      <th>similaridade_ponderada</th>\n",
              "    </tr>\n",
              "  </thead>\n",
              "  <tbody>\n",
              "    <tr>\n",
              "      <th>3</th>\n",
              "      <td>The Dark Knight Rises</td>\n",
              "      <td>9106</td>\n",
              "      <td>7.6</td>\n",
              "      <td>0.301512</td>\n",
              "      <td>0.301122</td>\n",
              "    </tr>\n",
              "    <tr>\n",
              "      <th>428</th>\n",
              "      <td>Batman Returns</td>\n",
              "      <td>1673</td>\n",
              "      <td>6.6</td>\n",
              "      <td>0.249431</td>\n",
              "      <td>0.247694</td>\n",
              "    </tr>\n",
              "    <tr>\n",
              "      <th>3854</th>\n",
              "      <td>Batman: The Dark Knight Returns, Part 2</td>\n",
              "      <td>419</td>\n",
              "      <td>7.9</td>\n",
              "      <td>0.224516</td>\n",
              "      <td>0.218420</td>\n",
              "    </tr>\n",
              "    <tr>\n",
              "      <th>299</th>\n",
              "      <td>Batman Forever</td>\n",
              "      <td>1498</td>\n",
              "      <td>5.2</td>\n",
              "      <td>0.214070</td>\n",
              "      <td>0.212413</td>\n",
              "    </tr>\n",
              "    <tr>\n",
              "      <th>1359</th>\n",
              "      <td>Batman</td>\n",
              "      <td>2096</td>\n",
              "      <td>7.0</td>\n",
              "      <td>0.182334</td>\n",
              "      <td>0.181328</td>\n",
              "    </tr>\n",
              "    <tr>\n",
              "      <th>119</th>\n",
              "      <td>Batman Begins</td>\n",
              "      <td>7359</td>\n",
              "      <td>7.5</td>\n",
              "      <td>0.162037</td>\n",
              "      <td>0.161782</td>\n",
              "    </tr>\n",
              "    <tr>\n",
              "      <th>1181</th>\n",
              "      <td>JFK</td>\n",
              "      <td>502</td>\n",
              "      <td>7.5</td>\n",
              "      <td>0.134627</td>\n",
              "      <td>0.131614</td>\n",
              "    </tr>\n",
              "    <tr>\n",
              "      <th>9</th>\n",
              "      <td>Batman v Superman: Dawn of Justice</td>\n",
              "      <td>7004</td>\n",
              "      <td>5.7</td>\n",
              "      <td>0.118637</td>\n",
              "      <td>0.118444</td>\n",
              "    </tr>\n",
              "    <tr>\n",
              "      <th>210</th>\n",
              "      <td>Batman &amp; Robin</td>\n",
              "      <td>1418</td>\n",
              "      <td>4.2</td>\n",
              "      <td>0.106896</td>\n",
              "      <td>0.106046</td>\n",
              "    </tr>\n",
              "    <tr>\n",
              "      <th>879</th>\n",
              "      <td>Law Abiding Citizen</td>\n",
              "      <td>1486</td>\n",
              "      <td>7.2</td>\n",
              "      <td>0.103289</td>\n",
              "      <td>0.102506</td>\n",
              "    </tr>\n",
              "  </tbody>\n",
              "</table>\n",
              "</div>"
            ],
            "text/plain": [
              "                                       titulo  ...  similaridade_ponderada\n",
              "3                       The Dark Knight Rises  ...                0.301122\n",
              "428                            Batman Returns  ...                0.247694\n",
              "3854  Batman: The Dark Knight Returns, Part 2  ...                0.218420\n",
              "299                            Batman Forever  ...                0.212413\n",
              "1359                                   Batman  ...                0.181328\n",
              "119                             Batman Begins  ...                0.161782\n",
              "1181                                      JFK  ...                0.131614\n",
              "9          Batman v Superman: Dawn of Justice  ...                0.118444\n",
              "210                            Batman & Robin  ...                0.106046\n",
              "879                       Law Abiding Citizen  ...                0.102506\n",
              "\n",
              "[10 rows x 5 columns]"
            ]
          },
          "metadata": {
            "tags": []
          },
          "execution_count": 20
        }
      ]
    },
    {
      "cell_type": "markdown",
      "metadata": {
        "id": "D0ngJU00Yxsj"
      },
      "source": [
        "### <font color=4169E1> Baseado em conteudo focado nos créditos"
      ]
    },
    {
      "cell_type": "code",
      "metadata": {
        "id": "rpi0k0Mjd6DD"
      },
      "source": [
        "# Faz uma cópia de filmes para \n",
        "copia_filmes = filmes.copy()"
      ],
      "execution_count": null,
      "outputs": []
    },
    {
      "cell_type": "code",
      "metadata": {
        "id": "q8VzO1emyzir"
      },
      "source": [
        "# Pega as listas e transformam em uma grande String\n",
        "def prepara_dados(x):\n",
        "    if isinstance(x, list):\n",
        "        return [str.lower(i.replace(\" \", \"\")) for i in x]\n",
        "    else:\n",
        "        if isinstance(x, str):\n",
        "            return str.lower(x.replace(\" \", \"\"))\n",
        "        else:\n",
        "            return ''\n",
        "colunas = ['elenco', 'palavras_chave', 'diretor', 'generos', 'companhias_producao']\n",
        "for coluna in colunas:\n",
        "    copia_filmes[coluna] = copia_filmes[coluna].apply(prepara_dados)"
      ],
      "execution_count": null,
      "outputs": []
    },
    {
      "cell_type": "code",
      "metadata": {
        "id": "wUudNyNeyzi3"
      },
      "source": [
        "# Pega as String das colunas e transformam em uma String de todas juntas, chamada de sopa\n",
        "def cria_sopa(x):\n",
        "    return ' '.join(x['palavras_chave']) + ' ' + ' '.join(x['elenco']) + ' ' + x['diretor'] + ' ' + ' '.join(x['generos'])\n",
        "copia_filmes['sopa'] = copia_filmes.apply(cria_sopa, axis=1)"
      ],
      "execution_count": null,
      "outputs": []
    },
    {
      "cell_type": "code",
      "metadata": {
        "id": "1DhTB4-Eyzi8",
        "outputId": "2a8f98fe-b3ca-4863-b648-9fde7e5a09ff",
        "colab": {
          "base_uri": "https://localhost:8080/",
          "height": 35
        }
      },
      "source": [
        "# CountVectorizer Tira todas as palavras em inglês que mais se repetem\n",
        "count = CountVectorizer(stop_words='english')\n",
        "\n",
        "# Constroi a Matrix \n",
        "count_matrix = count.fit_transform(copia_filmes['sopa'])\n",
        "\n",
        "# Mostra o tamanho da Matrix\n",
        "count_matrix.shape"
      ],
      "execution_count": null,
      "outputs": [
        {
          "output_type": "execute_result",
          "data": {
            "text/plain": [
              "(4803, 66904)"
            ]
          },
          "metadata": {
            "tags": []
          },
          "execution_count": 24
        }
      ]
    },
    {
      "cell_type": "code",
      "metadata": {
        "id": "PFTn00fffBje"
      },
      "source": [
        "similaridade_2 = cosine_similarity(count_matrix, count_matrix)"
      ],
      "execution_count": null,
      "outputs": []
    },
    {
      "cell_type": "markdown",
      "metadata": {
        "id": "LxVAFaarelQF"
      },
      "source": [
        "#### <font color=4169E1> Exemplo 1"
      ]
    },
    {
      "cell_type": "code",
      "metadata": {
        "id": "j3nAI7qjelQG",
        "outputId": "f0a3a11a-ff53-4662-ee0c-e41eb25765c8",
        "colab": {
          "base_uri": "https://localhost:8080/",
          "height": 340
        }
      },
      "source": [
        "normal_CBF('The Dark Knight', similaridade_2)"
      ],
      "execution_count": null,
      "outputs": [
        {
          "output_type": "execute_result",
          "data": {
            "text/html": [
              "<div>\n",
              "<style scoped>\n",
              "    .dataframe tbody tr th:only-of-type {\n",
              "        vertical-align: middle;\n",
              "    }\n",
              "\n",
              "    .dataframe tbody tr th {\n",
              "        vertical-align: top;\n",
              "    }\n",
              "\n",
              "    .dataframe thead th {\n",
              "        text-align: right;\n",
              "    }\n",
              "</style>\n",
              "<table border=\"1\" class=\"dataframe\">\n",
              "  <thead>\n",
              "    <tr style=\"text-align: right;\">\n",
              "      <th></th>\n",
              "      <th>titulo</th>\n",
              "      <th>data_lancamento</th>\n",
              "      <th>total_notas</th>\n",
              "      <th>media_notas</th>\n",
              "      <th>grau_de_similaridade</th>\n",
              "    </tr>\n",
              "  </thead>\n",
              "  <tbody>\n",
              "    <tr>\n",
              "      <th>4638</th>\n",
              "      <td>Amidst the Devil's Wings</td>\n",
              "      <td>2014-12-01</td>\n",
              "      <td>0</td>\n",
              "      <td>0.0</td>\n",
              "      <td>0.136505</td>\n",
              "    </tr>\n",
              "    <tr>\n",
              "      <th>119</th>\n",
              "      <td>Batman Begins</td>\n",
              "      <td>2005-06-10</td>\n",
              "      <td>7359</td>\n",
              "      <td>7.5</td>\n",
              "      <td>0.135133</td>\n",
              "    </tr>\n",
              "    <tr>\n",
              "      <th>3</th>\n",
              "      <td>The Dark Knight Rises</td>\n",
              "      <td>2012-07-16</td>\n",
              "      <td>9106</td>\n",
              "      <td>7.6</td>\n",
              "      <td>0.120386</td>\n",
              "    </tr>\n",
              "    <tr>\n",
              "      <th>428</th>\n",
              "      <td>Batman Returns</td>\n",
              "      <td>1992-06-19</td>\n",
              "      <td>1673</td>\n",
              "      <td>6.6</td>\n",
              "      <td>0.109754</td>\n",
              "    </tr>\n",
              "    <tr>\n",
              "      <th>210</th>\n",
              "      <td>Batman &amp; Robin</td>\n",
              "      <td>1997-06-20</td>\n",
              "      <td>1418</td>\n",
              "      <td>4.2</td>\n",
              "      <td>0.102444</td>\n",
              "    </tr>\n",
              "    <tr>\n",
              "      <th>3972</th>\n",
              "      <td>Chicago Overcoat</td>\n",
              "      <td>2009-10-10</td>\n",
              "      <td>5</td>\n",
              "      <td>6.1</td>\n",
              "      <td>0.099689</td>\n",
              "    </tr>\n",
              "    <tr>\n",
              "      <th>4408</th>\n",
              "      <td>Jimmy and Judy</td>\n",
              "      <td>2006-01-01</td>\n",
              "      <td>8</td>\n",
              "      <td>5.4</td>\n",
              "      <td>0.087433</td>\n",
              "    </tr>\n",
              "    <tr>\n",
              "      <th>1359</th>\n",
              "      <td>Batman</td>\n",
              "      <td>1989-06-23</td>\n",
              "      <td>2096</td>\n",
              "      <td>7.0</td>\n",
              "      <td>0.084929</td>\n",
              "    </tr>\n",
              "    <tr>\n",
              "      <th>299</th>\n",
              "      <td>Batman Forever</td>\n",
              "      <td>1995-05-31</td>\n",
              "      <td>1498</td>\n",
              "      <td>5.2</td>\n",
              "      <td>0.084130</td>\n",
              "    </tr>\n",
              "    <tr>\n",
              "      <th>3644</th>\n",
              "      <td>Albino Alligator</td>\n",
              "      <td>1996-09-09</td>\n",
              "      <td>45</td>\n",
              "      <td>5.6</td>\n",
              "      <td>0.084013</td>\n",
              "    </tr>\n",
              "  </tbody>\n",
              "</table>\n",
              "</div>"
            ],
            "text/plain": [
              "                        titulo  ... grau_de_similaridade\n",
              "4638  Amidst the Devil's Wings  ...             0.136505\n",
              "119              Batman Begins  ...             0.135133\n",
              "3        The Dark Knight Rises  ...             0.120386\n",
              "428             Batman Returns  ...             0.109754\n",
              "210             Batman & Robin  ...             0.102444\n",
              "3972          Chicago Overcoat  ...             0.099689\n",
              "4408            Jimmy and Judy  ...             0.087433\n",
              "1359                    Batman  ...             0.084929\n",
              "299             Batman Forever  ...             0.084130\n",
              "3644          Albino Alligator  ...             0.084013\n",
              "\n",
              "[10 rows x 5 columns]"
            ]
          },
          "metadata": {
            "tags": []
          },
          "execution_count": 26
        }
      ]
    },
    {
      "cell_type": "markdown",
      "metadata": {
        "id": "jWL62snielQJ"
      },
      "source": [
        "#### <font color=4169E1> Exemplo 2"
      ]
    },
    {
      "cell_type": "code",
      "metadata": {
        "id": "W-5dHW6_elQJ",
        "outputId": "0e1c308f-240b-4b87-8142-847d568050da",
        "colab": {
          "base_uri": "https://localhost:8080/",
          "height": 487
        }
      },
      "source": [
        "avaliacao_ponderada_CBF('The Dark Knight', similaridade_2)"
      ],
      "execution_count": null,
      "outputs": [
        {
          "output_type": "execute_result",
          "data": {
            "text/html": [
              "<div>\n",
              "<style scoped>\n",
              "    .dataframe tbody tr th:only-of-type {\n",
              "        vertical-align: middle;\n",
              "    }\n",
              "\n",
              "    .dataframe tbody tr th {\n",
              "        vertical-align: top;\n",
              "    }\n",
              "\n",
              "    .dataframe thead th {\n",
              "        text-align: right;\n",
              "    }\n",
              "</style>\n",
              "<table border=\"1\" class=\"dataframe\">\n",
              "  <thead>\n",
              "    <tr style=\"text-align: right;\">\n",
              "      <th></th>\n",
              "      <th>titulo</th>\n",
              "      <th>total_notas</th>\n",
              "      <th>media_notas</th>\n",
              "      <th>data_lancamento</th>\n",
              "      <th>avaliacao_ponderada</th>\n",
              "    </tr>\n",
              "  </thead>\n",
              "  <tbody>\n",
              "    <tr>\n",
              "      <th>3</th>\n",
              "      <td>The Dark Knight Rises</td>\n",
              "      <td>9106</td>\n",
              "      <td>7.6</td>\n",
              "      <td>2012-07-16</td>\n",
              "      <td>7.222525</td>\n",
              "    </tr>\n",
              "    <tr>\n",
              "      <th>119</th>\n",
              "      <td>Batman Begins</td>\n",
              "      <td>7359</td>\n",
              "      <td>7.5</td>\n",
              "      <td>2005-06-10</td>\n",
              "      <td>7.088355</td>\n",
              "    </tr>\n",
              "    <tr>\n",
              "      <th>1359</th>\n",
              "      <td>Batman</td>\n",
              "      <td>2096</td>\n",
              "      <td>7.0</td>\n",
              "      <td>1989-06-23</td>\n",
              "      <td>6.462591</td>\n",
              "    </tr>\n",
              "    <tr>\n",
              "      <th>428</th>\n",
              "      <td>Batman Returns</td>\n",
              "      <td>1673</td>\n",
              "      <td>6.6</td>\n",
              "      <td>1992-06-19</td>\n",
              "      <td>6.272404</td>\n",
              "    </tr>\n",
              "    <tr>\n",
              "      <th>2371</th>\n",
              "      <td>RockNRolla</td>\n",
              "      <td>836</td>\n",
              "      <td>6.9</td>\n",
              "      <td>2008-09-04</td>\n",
              "      <td>6.266369</td>\n",
              "    </tr>\n",
              "    <tr>\n",
              "      <th>919</th>\n",
              "      <td>Payback</td>\n",
              "      <td>548</td>\n",
              "      <td>6.7</td>\n",
              "      <td>1999-02-05</td>\n",
              "      <td>6.184983</td>\n",
              "    </tr>\n",
              "    <tr>\n",
              "      <th>1740</th>\n",
              "      <td>Kick-Ass 2</td>\n",
              "      <td>2224</td>\n",
              "      <td>6.3</td>\n",
              "      <td>2013-07-17</td>\n",
              "      <td>6.179962</td>\n",
              "    </tr>\n",
              "    <tr>\n",
              "      <th>1245</th>\n",
              "      <td>Colombiana</td>\n",
              "      <td>824</td>\n",
              "      <td>6.5</td>\n",
              "      <td>2011-07-27</td>\n",
              "      <td>6.179121</td>\n",
              "    </tr>\n",
              "    <tr>\n",
              "      <th>2915</th>\n",
              "      <td>Trash</td>\n",
              "      <td>242</td>\n",
              "      <td>7.1</td>\n",
              "      <td>2014-10-09</td>\n",
              "      <td>6.166464</td>\n",
              "    </tr>\n",
              "    <tr>\n",
              "      <th>3518</th>\n",
              "      <td>The Protector</td>\n",
              "      <td>167</td>\n",
              "      <td>6.8</td>\n",
              "      <td>2005-08-11</td>\n",
              "      <td>6.129020</td>\n",
              "    </tr>\n",
              "    <tr>\n",
              "      <th>2346</th>\n",
              "      <td>Young Sherlock Holmes</td>\n",
              "      <td>167</td>\n",
              "      <td>6.7</td>\n",
              "      <td>1985-12-04</td>\n",
              "      <td>6.123814</td>\n",
              "    </tr>\n",
              "    <tr>\n",
              "      <th>929</th>\n",
              "      <td>Outbreak</td>\n",
              "      <td>513</td>\n",
              "      <td>6.3</td>\n",
              "      <td>1995-03-10</td>\n",
              "      <td>6.122171</td>\n",
              "    </tr>\n",
              "    <tr>\n",
              "      <th>2291</th>\n",
              "      <td>The Devil's Double</td>\n",
              "      <td>208</td>\n",
              "      <td>6.5</td>\n",
              "      <td>2011-02-11</td>\n",
              "      <td>6.118281</td>\n",
              "    </tr>\n",
              "    <tr>\n",
              "      <th>3173</th>\n",
              "      <td>Boiler Room</td>\n",
              "      <td>201</td>\n",
              "      <td>6.5</td>\n",
              "      <td>2000-02-18</td>\n",
              "      <td>6.117457</td>\n",
              "    </tr>\n",
              "    <tr>\n",
              "      <th>3819</th>\n",
              "      <td>Defendor</td>\n",
              "      <td>195</td>\n",
              "      <td>6.5</td>\n",
              "      <td>2009-09-12</td>\n",
              "      <td>6.116748</td>\n",
              "    </tr>\n",
              "  </tbody>\n",
              "</table>\n",
              "</div>"
            ],
            "text/plain": [
              "                     titulo  total_notas  ...  data_lancamento avaliacao_ponderada\n",
              "3     The Dark Knight Rises         9106  ...       2012-07-16            7.222525\n",
              "119           Batman Begins         7359  ...       2005-06-10            7.088355\n",
              "1359                 Batman         2096  ...       1989-06-23            6.462591\n",
              "428          Batman Returns         1673  ...       1992-06-19            6.272404\n",
              "2371             RockNRolla          836  ...       2008-09-04            6.266369\n",
              "919                 Payback          548  ...       1999-02-05            6.184983\n",
              "1740             Kick-Ass 2         2224  ...       2013-07-17            6.179962\n",
              "1245             Colombiana          824  ...       2011-07-27            6.179121\n",
              "2915                  Trash          242  ...       2014-10-09            6.166464\n",
              "3518          The Protector          167  ...       2005-08-11            6.129020\n",
              "2346  Young Sherlock Holmes          167  ...       1985-12-04            6.123814\n",
              "929                Outbreak          513  ...       1995-03-10            6.122171\n",
              "2291     The Devil's Double          208  ...       2011-02-11            6.118281\n",
              "3173            Boiler Room          201  ...       2000-02-18            6.117457\n",
              "3819               Defendor          195  ...       2009-09-12            6.116748\n",
              "\n",
              "[15 rows x 5 columns]"
            ]
          },
          "metadata": {
            "tags": []
          },
          "execution_count": 27
        }
      ]
    },
    {
      "cell_type": "markdown",
      "metadata": {
        "id": "TGvde9-oelQL"
      },
      "source": [
        "#### <font color=4169E1> Exemplo 3"
      ]
    },
    {
      "cell_type": "code",
      "metadata": {
        "id": "DudZJPyWelQL",
        "outputId": "e3c8f416-d963-4a92-dbcc-e713a575ce1c",
        "colab": {
          "base_uri": "https://localhost:8080/",
          "height": 340
        }
      },
      "source": [
        "similaridade_ponderada_CBF('The Dark Knight', similaridade_2)"
      ],
      "execution_count": null,
      "outputs": [
        {
          "output_type": "execute_result",
          "data": {
            "text/html": [
              "<div>\n",
              "<style scoped>\n",
              "    .dataframe tbody tr th:only-of-type {\n",
              "        vertical-align: middle;\n",
              "    }\n",
              "\n",
              "    .dataframe tbody tr th {\n",
              "        vertical-align: top;\n",
              "    }\n",
              "\n",
              "    .dataframe thead th {\n",
              "        text-align: right;\n",
              "    }\n",
              "</style>\n",
              "<table border=\"1\" class=\"dataframe\">\n",
              "  <thead>\n",
              "    <tr style=\"text-align: right;\">\n",
              "      <th></th>\n",
              "      <th>titulo</th>\n",
              "      <th>total_notas</th>\n",
              "      <th>media_notas</th>\n",
              "      <th>grau_de_similaridade</th>\n",
              "      <th>similaridade_ponderada</th>\n",
              "    </tr>\n",
              "  </thead>\n",
              "  <tbody>\n",
              "    <tr>\n",
              "      <th>119</th>\n",
              "      <td>Batman Begins</td>\n",
              "      <td>7359</td>\n",
              "      <td>7.5</td>\n",
              "      <td>0.135133</td>\n",
              "      <td>0.134943</td>\n",
              "    </tr>\n",
              "    <tr>\n",
              "      <th>3</th>\n",
              "      <td>The Dark Knight Rises</td>\n",
              "      <td>9106</td>\n",
              "      <td>7.6</td>\n",
              "      <td>0.120386</td>\n",
              "      <td>0.120252</td>\n",
              "    </tr>\n",
              "    <tr>\n",
              "      <th>428</th>\n",
              "      <td>Batman Returns</td>\n",
              "      <td>1673</td>\n",
              "      <td>6.6</td>\n",
              "      <td>0.109754</td>\n",
              "      <td>0.109106</td>\n",
              "    </tr>\n",
              "    <tr>\n",
              "      <th>210</th>\n",
              "      <td>Batman &amp; Robin</td>\n",
              "      <td>1418</td>\n",
              "      <td>4.2</td>\n",
              "      <td>0.102444</td>\n",
              "      <td>0.101742</td>\n",
              "    </tr>\n",
              "    <tr>\n",
              "      <th>1359</th>\n",
              "      <td>Batman</td>\n",
              "      <td>2096</td>\n",
              "      <td>7.0</td>\n",
              "      <td>0.084929</td>\n",
              "      <td>0.084553</td>\n",
              "    </tr>\n",
              "    <tr>\n",
              "      <th>299</th>\n",
              "      <td>Batman Forever</td>\n",
              "      <td>1498</td>\n",
              "      <td>5.2</td>\n",
              "      <td>0.084130</td>\n",
              "      <td>0.083611</td>\n",
              "    </tr>\n",
              "    <tr>\n",
              "      <th>2793</th>\n",
              "      <td>The Killer Inside Me</td>\n",
              "      <td>173</td>\n",
              "      <td>6.0</td>\n",
              "      <td>0.081396</td>\n",
              "      <td>0.077338</td>\n",
              "    </tr>\n",
              "    <tr>\n",
              "      <th>4099</th>\n",
              "      <td>Harsh Times</td>\n",
              "      <td>197</td>\n",
              "      <td>6.3</td>\n",
              "      <td>0.080436</td>\n",
              "      <td>0.076900</td>\n",
              "    </tr>\n",
              "    <tr>\n",
              "      <th>3819</th>\n",
              "      <td>Defendor</td>\n",
              "      <td>195</td>\n",
              "      <td>6.5</td>\n",
              "      <td>0.078811</td>\n",
              "      <td>0.075335</td>\n",
              "    </tr>\n",
              "    <tr>\n",
              "      <th>2915</th>\n",
              "      <td>Trash</td>\n",
              "      <td>242</td>\n",
              "      <td>7.1</td>\n",
              "      <td>0.075836</td>\n",
              "      <td>0.073143</td>\n",
              "    </tr>\n",
              "  </tbody>\n",
              "</table>\n",
              "</div>"
            ],
            "text/plain": [
              "                     titulo  ...  similaridade_ponderada\n",
              "119           Batman Begins  ...                0.134943\n",
              "3     The Dark Knight Rises  ...                0.120252\n",
              "428          Batman Returns  ...                0.109106\n",
              "210          Batman & Robin  ...                0.101742\n",
              "1359                 Batman  ...                0.084553\n",
              "299          Batman Forever  ...                0.083611\n",
              "2793   The Killer Inside Me  ...                0.077338\n",
              "4099            Harsh Times  ...                0.076900\n",
              "3819               Defendor  ...                0.075335\n",
              "2915                  Trash  ...                0.073143\n",
              "\n",
              "[10 rows x 5 columns]"
            ]
          },
          "metadata": {
            "tags": []
          },
          "execution_count": 28
        }
      ]
    },
    {
      "cell_type": "markdown",
      "metadata": {
        "id": "-EhPgJvCe6dO"
      },
      "source": [
        "# <font color=4169E1> Baseado em Filtro Colaborativo"
      ]
    },
    {
      "cell_type": "markdown",
      "metadata": {
        "id": "YOmgWxAtwP_h"
      },
      "source": [
        "## <font color=4169E1> Analisando filtros"
      ]
    },
    {
      "cell_type": "code",
      "metadata": {
        "id": "uNl29_y4e-GW",
        "outputId": "e0aa4fed-02a4-4692-d5ad-070e2ad20ac4",
        "colab": {
          "base_uri": "https://localhost:8080/",
          "height": 311
        }
      },
      "source": [
        "# Mostra formatado em DataFrame os dados estatisticos da frequencia de filmes e usuarios\n",
        "freq_filmes = notas['filmeId'].value_counts().describe().to_frame().reset_index()\n",
        "freq_usuarios = notas['usuarioId'].value_counts().describe().to_frame().reset_index()\n",
        "df_formatado = freq_filmes.merge(freq_usuarios[['index','usuarioId']], on='index')\n",
        "df_formatado = df_formatado.set_index('index')\n",
        "df_formatado.columns = ['frequencia_filme', 'frequencia_usuario']\n",
        "df_formatado"
      ],
      "execution_count": null,
      "outputs": [
        {
          "output_type": "execute_result",
          "data": {
            "text/html": [
              "<div>\n",
              "<style scoped>\n",
              "    .dataframe tbody tr th:only-of-type {\n",
              "        vertical-align: middle;\n",
              "    }\n",
              "\n",
              "    .dataframe tbody tr th {\n",
              "        vertical-align: top;\n",
              "    }\n",
              "\n",
              "    .dataframe thead th {\n",
              "        text-align: right;\n",
              "    }\n",
              "</style>\n",
              "<table border=\"1\" class=\"dataframe\">\n",
              "  <thead>\n",
              "    <tr style=\"text-align: right;\">\n",
              "      <th></th>\n",
              "      <th>frequencia_filme</th>\n",
              "      <th>frequencia_usuario</th>\n",
              "    </tr>\n",
              "    <tr>\n",
              "      <th>index</th>\n",
              "      <th></th>\n",
              "      <th></th>\n",
              "    </tr>\n",
              "  </thead>\n",
              "  <tbody>\n",
              "    <tr>\n",
              "      <th>count</th>\n",
              "      <td>3535.000000</td>\n",
              "      <td>610.000000</td>\n",
              "    </tr>\n",
              "    <tr>\n",
              "      <th>mean</th>\n",
              "      <td>19.856860</td>\n",
              "      <td>115.072131</td>\n",
              "    </tr>\n",
              "    <tr>\n",
              "      <th>std</th>\n",
              "      <td>32.339699</td>\n",
              "      <td>169.451180</td>\n",
              "    </tr>\n",
              "    <tr>\n",
              "      <th>min</th>\n",
              "      <td>1.000000</td>\n",
              "      <td>8.000000</td>\n",
              "    </tr>\n",
              "    <tr>\n",
              "      <th>25%</th>\n",
              "      <td>3.000000</td>\n",
              "      <td>27.000000</td>\n",
              "    </tr>\n",
              "    <tr>\n",
              "      <th>50%</th>\n",
              "      <td>7.000000</td>\n",
              "      <td>53.000000</td>\n",
              "    </tr>\n",
              "    <tr>\n",
              "      <th>75%</th>\n",
              "      <td>22.000000</td>\n",
              "      <td>129.750000</td>\n",
              "    </tr>\n",
              "    <tr>\n",
              "      <th>max</th>\n",
              "      <td>329.000000</td>\n",
              "      <td>1605.000000</td>\n",
              "    </tr>\n",
              "  </tbody>\n",
              "</table>\n",
              "</div>"
            ],
            "text/plain": [
              "       frequencia_filme  frequencia_usuario\n",
              "index                                      \n",
              "count       3535.000000          610.000000\n",
              "mean          19.856860          115.072131\n",
              "std           32.339699          169.451180\n",
              "min            1.000000            8.000000\n",
              "25%            3.000000           27.000000\n",
              "50%            7.000000           53.000000\n",
              "75%           22.000000          129.750000\n",
              "max          329.000000         1605.000000"
            ]
          },
          "metadata": {
            "tags": []
          },
          "execution_count": 29
        }
      ]
    },
    {
      "cell_type": "code",
      "metadata": {
        "id": "m3jgIGe5vp70",
        "outputId": "7d0edc36-91db-4a14-e508-68da6268821f",
        "colab": {
          "base_uri": "https://localhost:8080/",
          "height": 35
        }
      },
      "source": [
        "notas.filmeId.value_counts().quantile(0.80)"
      ],
      "execution_count": null,
      "outputs": [
        {
          "output_type": "execute_result",
          "data": {
            "text/plain": [
              "30.0"
            ]
          },
          "metadata": {
            "tags": []
          },
          "execution_count": 30
        }
      ]
    },
    {
      "cell_type": "code",
      "metadata": {
        "id": "1MU6R-ESf1-B",
        "outputId": "740a2ac9-45c6-478a-c210-3e22e386ea30",
        "colab": {
          "base_uri": "https://localhost:8080/",
          "height": 52
        }
      },
      "source": [
        "# Pega a quantidade minima de votos que um filme tem que ter para ser contabilizado no nosso filtro colaborativo\n",
        "filtro_filmes = notas.filmeId.value_counts() > notas.filmeId.value_counts().quantile(0.80)\n",
        "filtro_filmes = filtro_filmes[filtro_filmes].index.tolist()\n",
        "print(f'Quantidade de dados antes do filtro: {notas.shape}')\n",
        "notas = notas[(notas['filmeId'].isin(filtro_filmes))]\n",
        "print(f'Quantidade de dados antes do filtro: {notas.shape}')"
      ],
      "execution_count": null,
      "outputs": [
        {
          "output_type": "stream",
          "text": [
            "Quantidade de dados antes do filtro: (70194, 3)\n",
            "Quantidade de dados antes do filtro: (48401, 3)\n"
          ],
          "name": "stdout"
        }
      ]
    },
    {
      "cell_type": "code",
      "metadata": {
        "id": "xQDR7KwfZefh"
      },
      "source": [
        "# Adicionando algumas avaliações, para analisarmos com nosso filtro colaborativo\n",
        "df = pd.DataFrame([[1000, 118340, 5.0],\n",
        "                   [1000, 157336, 5.0],\n",
        "                   [1000, 27205, 5.0],\n",
        "                   [1000, 122, 5.0],\n",
        "                   [1000, 603, 5.0],\n",
        "                   [1000, 550, 5.0]], columns=notas.columns)\n",
        "notas = notas.append(df, ignore_index=True)"
      ],
      "execution_count": null,
      "outputs": []
    },
    {
      "cell_type": "markdown",
      "metadata": {
        "id": "8b5_WGf6wWHF"
      },
      "source": [
        "## <font color=4169E1> Treinando modelo"
      ]
    },
    {
      "cell_type": "code",
      "metadata": {
        "id": "kwrewHKNgLdb"
      },
      "source": [
        "# Informa o range das notas, nesse sistema ele vai de 0.5 até 5\n",
        "reader = Reader(rating_scale = (0.5, 5))\n",
        "\n",
        "# Cria um dataset com Reader\n",
        "data = Dataset.load_from_df(notas[['usuarioId', 'filmeId', 'nota']], reader)"
      ],
      "execution_count": null,
      "outputs": []
    },
    {
      "cell_type": "code",
      "metadata": {
        "id": "YhYZizgGgaBx",
        "outputId": "fc3207d3-882c-48f2-d18b-f1a1693ae00c",
        "colab": {
          "base_uri": "https://localhost:8080/",
          "height": 159
        }
      },
      "source": [
        "# Criando instancia do SVD\n",
        "np.random.seed(7)\n",
        "svd = SVD()\n",
        "\n",
        "# Treinando os dados\n",
        "cross_validate(svd, data, measures = ['RMSE', 'MAE'], cv=5, verbose = True)\n",
        "print('>> Traning Done')"
      ],
      "execution_count": null,
      "outputs": [
        {
          "output_type": "stream",
          "text": [
            "Evaluating RMSE, MAE of algorithm SVD on 5 split(s).\n",
            "\n",
            "                  Fold 1  Fold 2  Fold 3  Fold 4  Fold 5  Mean    Std     \n",
            "RMSE (testset)    0.8448  0.8470  0.8425  0.8374  0.8398  0.8423  0.0034  \n",
            "MAE (testset)     0.6441  0.6485  0.6423  0.6431  0.6382  0.6432  0.0033  \n",
            "Fit time          2.44    2.41    2.43    2.40    2.41    2.42    0.02    \n",
            "Test time         0.07    0.07    0.06    0.08    0.26    0.11    0.08    \n",
            ">> Traning Done\n"
          ],
          "name": "stdout"
        }
      ]
    },
    {
      "cell_type": "code",
      "metadata": {
        "id": "m0iBaroKo82G"
      },
      "source": [
        "# Cria a base de testes\n",
        "trainset = data.build_full_trainset()\n",
        "\n",
        "# Pega as notas que não estão no teste e preenchem com a média\n",
        "antiset = trainset.build_anti_testset()"
      ],
      "execution_count": null,
      "outputs": []
    },
    {
      "cell_type": "code",
      "metadata": {
        "id": "sfV7G-e2yoA9"
      },
      "source": [
        "# Pega todas as previsões\n",
        "predictions = svd.test(antiset)"
      ],
      "execution_count": null,
      "outputs": []
    },
    {
      "cell_type": "markdown",
      "metadata": {
        "id": "xo2qxFIZz92m"
      },
      "source": [
        "#### <font color=4169E1> Exemplo"
      ]
    },
    {
      "cell_type": "code",
      "metadata": {
        "id": "AccnZXcZ0B2a",
        "outputId": "dd6abd17-0b71-4299-907a-a2fce6bfaaa6",
        "colab": {
          "base_uri": "https://localhost:8080/",
          "height": 35
        }
      },
      "source": [
        "#exemplo de saída de uma previsão\n",
        "## uid = id do usuario\n",
        "## iid = id do filme\n",
        "## r_ui = valor da nota do usuario no filme, caso não exista é colocado a média)\n",
        "## est = valor esperado que o usuário vá por\n",
        "predictions[0]"
      ],
      "execution_count": null,
      "outputs": [
        {
          "output_type": "execute_result",
          "data": {
            "text/plain": [
              "Prediction(uid=1, iid=24, r_ui=3.6800669324684447, est=4.3780757240782595, details={'was_impossible': False})"
            ]
          },
          "metadata": {
            "tags": []
          },
          "execution_count": 37
        }
      ]
    },
    {
      "cell_type": "code",
      "metadata": {
        "id": "uX4CEB5Rwl4z",
        "outputId": "a16e1b45-dcb3-46a2-ea21-36109385ce51",
        "colab": {
          "base_uri": "https://localhost:8080/",
          "height": 35
        }
      },
      "source": [
        "# Podemos prever a nota de um filme de um usuario específico\n",
        "svd.predict(1000, 279)"
      ],
      "execution_count": null,
      "outputs": [
        {
          "output_type": "execute_result",
          "data": {
            "text/plain": [
              "Prediction(uid=1000, iid=279, r_ui=None, est=4.587313102737602, details={'was_impossible': False})"
            ]
          },
          "metadata": {
            "tags": []
          },
          "execution_count": 38
        }
      ]
    },
    {
      "cell_type": "markdown",
      "metadata": {
        "id": "lEu8Rjr6wcpS"
      },
      "source": [
        "## <font color=4169E1> Função"
      ]
    },
    {
      "cell_type": "code",
      "metadata": {
        "id": "hGDTJ3Tzgrur"
      },
      "source": [
        "# Cria um DataFrame com os 'n' filmes que foram passados\n",
        "def pega_top_n(predictions, n):\n",
        "    top_n = defaultdict(list)\n",
        "    for uid, iid, _, est, _ in predictions:\n",
        "        top_n[uid].append((iid,est))\n",
        "    for uid, user_ratings in top_n.items():\n",
        "        user_ratings.sort(key = lambda x: x[1], reverse = True)\n",
        "        top_n[uid] = user_ratings[:n]\n",
        "    return top_n\n",
        "\n",
        "top_n = pega_top_n(predictions, 10)"
      ],
      "execution_count": null,
      "outputs": []
    },
    {
      "cell_type": "code",
      "metadata": {
        "id": "4mPQjWzep619"
      },
      "source": [
        "# Pega os filmes recomendados\n",
        "def CF(usuarioId):\n",
        "  top_n_df = pd.DataFrame(top_n[usuarioId])\n",
        "  top_n_df.columns = ['filmeId', 'cf']\n",
        "  previsoes = filmes.copy()\n",
        "  previsoes = previsoes[['filmeId', 'titulo', 'total_notas', 'media_notas']]\n",
        "  previsoes = previsoes.loc[previsoes.filmeId.isin(top_n_df.filmeId)]\n",
        "  previsoes = previsoes.merge(top_n_df[['filmeId','cf']], on='filmeId')\n",
        "  return previsoes.sort_values('cf', ascending=False)"
      ],
      "execution_count": null,
      "outputs": []
    },
    {
      "cell_type": "markdown",
      "metadata": {
        "id": "NwgB39LR3nPX"
      },
      "source": [
        "#### <font color=4169E1> Exemplo"
      ]
    },
    {
      "cell_type": "code",
      "metadata": {
        "id": "qDwRQVL2bCSU",
        "outputId": "875c1ffd-4cce-427c-fdfe-8c38ad22af17",
        "colab": {
          "base_uri": "https://localhost:8080/",
          "height": 223
        }
      },
      "source": [
        "# Filmes que o usuario mil avaliou\n",
        "filmes[filmes.filmeId.isin(notas[notas.usuarioId == 1000]['filmeId'])].titulo.to_frame()"
      ],
      "execution_count": null,
      "outputs": [
        {
          "output_type": "execute_result",
          "data": {
            "text/html": [
              "<div>\n",
              "<style scoped>\n",
              "    .dataframe tbody tr th:only-of-type {\n",
              "        vertical-align: middle;\n",
              "    }\n",
              "\n",
              "    .dataframe tbody tr th {\n",
              "        vertical-align: top;\n",
              "    }\n",
              "\n",
              "    .dataframe thead th {\n",
              "        text-align: right;\n",
              "    }\n",
              "</style>\n",
              "<table border=\"1\" class=\"dataframe\">\n",
              "  <thead>\n",
              "    <tr style=\"text-align: right;\">\n",
              "      <th></th>\n",
              "      <th>titulo</th>\n",
              "    </tr>\n",
              "  </thead>\n",
              "  <tbody>\n",
              "    <tr>\n",
              "      <th>94</th>\n",
              "      <td>Guardians of the Galaxy</td>\n",
              "    </tr>\n",
              "    <tr>\n",
              "      <th>95</th>\n",
              "      <td>Interstellar</td>\n",
              "    </tr>\n",
              "    <tr>\n",
              "      <th>96</th>\n",
              "      <td>Inception</td>\n",
              "    </tr>\n",
              "    <tr>\n",
              "      <th>329</th>\n",
              "      <td>The Lord of the Rings: The Return of the King</td>\n",
              "    </tr>\n",
              "    <tr>\n",
              "      <th>634</th>\n",
              "      <td>The Matrix</td>\n",
              "    </tr>\n",
              "    <tr>\n",
              "      <th>662</th>\n",
              "      <td>Fight Club</td>\n",
              "    </tr>\n",
              "  </tbody>\n",
              "</table>\n",
              "</div>"
            ],
            "text/plain": [
              "                                            titulo\n",
              "94                         Guardians of the Galaxy\n",
              "95                                    Interstellar\n",
              "96                                       Inception\n",
              "329  The Lord of the Rings: The Return of the King\n",
              "634                                     The Matrix\n",
              "662                                     Fight Club"
            ]
          },
          "metadata": {
            "tags": []
          },
          "execution_count": 41
        }
      ]
    },
    {
      "cell_type": "code",
      "metadata": {
        "id": "-cKcrq_a3bLE",
        "outputId": "9c0dc67d-e109-4476-886d-d781980e9c4c",
        "colab": {
          "base_uri": "https://localhost:8080/",
          "height": 340
        }
      },
      "source": [
        "# De acordo com as notas dadas pelo usuario, podemos verificar quais filmes ele daria maior nota e recomendamos esses filmes\n",
        "CF(1000)"
      ],
      "execution_count": null,
      "outputs": [
        {
          "output_type": "execute_result",
          "data": {
            "text/html": [
              "<div>\n",
              "<style scoped>\n",
              "    .dataframe tbody tr th:only-of-type {\n",
              "        vertical-align: middle;\n",
              "    }\n",
              "\n",
              "    .dataframe tbody tr th {\n",
              "        vertical-align: top;\n",
              "    }\n",
              "\n",
              "    .dataframe thead th {\n",
              "        text-align: right;\n",
              "    }\n",
              "</style>\n",
              "<table border=\"1\" class=\"dataframe\">\n",
              "  <thead>\n",
              "    <tr style=\"text-align: right;\">\n",
              "      <th></th>\n",
              "      <th>filmeId</th>\n",
              "      <th>titulo</th>\n",
              "      <th>total_notas</th>\n",
              "      <th>media_notas</th>\n",
              "      <th>cf</th>\n",
              "    </tr>\n",
              "  </thead>\n",
              "  <tbody>\n",
              "    <tr>\n",
              "      <th>3</th>\n",
              "      <td>278</td>\n",
              "      <td>The Shawshank Redemption</td>\n",
              "      <td>8205</td>\n",
              "      <td>8.5</td>\n",
              "      <td>4.939753</td>\n",
              "    </tr>\n",
              "    <tr>\n",
              "      <th>4</th>\n",
              "      <td>38</td>\n",
              "      <td>Eternal Sunshine of the Spotless Mind</td>\n",
              "      <td>3652</td>\n",
              "      <td>7.9</td>\n",
              "      <td>4.771556</td>\n",
              "    </tr>\n",
              "    <tr>\n",
              "      <th>1</th>\n",
              "      <td>1422</td>\n",
              "      <td>The Departed</td>\n",
              "      <td>4339</td>\n",
              "      <td>7.9</td>\n",
              "      <td>4.768633</td>\n",
              "    </tr>\n",
              "    <tr>\n",
              "      <th>0</th>\n",
              "      <td>155</td>\n",
              "      <td>The Dark Knight</td>\n",
              "      <td>12002</td>\n",
              "      <td>8.2</td>\n",
              "      <td>4.766824</td>\n",
              "    </tr>\n",
              "    <tr>\n",
              "      <th>7</th>\n",
              "      <td>73</td>\n",
              "      <td>American History X</td>\n",
              "      <td>3016</td>\n",
              "      <td>8.2</td>\n",
              "      <td>4.765481</td>\n",
              "    </tr>\n",
              "    <tr>\n",
              "      <th>2</th>\n",
              "      <td>16869</td>\n",
              "      <td>Inglourious Basterds</td>\n",
              "      <td>6430</td>\n",
              "      <td>7.9</td>\n",
              "      <td>4.756448</td>\n",
              "    </tr>\n",
              "    <tr>\n",
              "      <th>8</th>\n",
              "      <td>9388</td>\n",
              "      <td>Thank You for Smoking</td>\n",
              "      <td>664</td>\n",
              "      <td>7.1</td>\n",
              "      <td>4.752730</td>\n",
              "    </tr>\n",
              "    <tr>\n",
              "      <th>9</th>\n",
              "      <td>629</td>\n",
              "      <td>The Usual Suspects</td>\n",
              "      <td>3254</td>\n",
              "      <td>8.1</td>\n",
              "      <td>4.749035</td>\n",
              "    </tr>\n",
              "    <tr>\n",
              "      <th>5</th>\n",
              "      <td>947</td>\n",
              "      <td>Lawrence of Arabia</td>\n",
              "      <td>851</td>\n",
              "      <td>7.8</td>\n",
              "      <td>4.738934</td>\n",
              "    </tr>\n",
              "    <tr>\n",
              "      <th>6</th>\n",
              "      <td>68</td>\n",
              "      <td>Brazil</td>\n",
              "      <td>861</td>\n",
              "      <td>7.5</td>\n",
              "      <td>4.724393</td>\n",
              "    </tr>\n",
              "  </tbody>\n",
              "</table>\n",
              "</div>"
            ],
            "text/plain": [
              "   filmeId                                 titulo  ...  media_notas        cf\n",
              "3      278               The Shawshank Redemption  ...          8.5  4.939753\n",
              "4       38  Eternal Sunshine of the Spotless Mind  ...          7.9  4.771556\n",
              "1     1422                           The Departed  ...          7.9  4.768633\n",
              "0      155                        The Dark Knight  ...          8.2  4.766824\n",
              "7       73                     American History X  ...          8.2  4.765481\n",
              "2    16869                   Inglourious Basterds  ...          7.9  4.756448\n",
              "8     9388                  Thank You for Smoking  ...          7.1  4.752730\n",
              "9      629                     The Usual Suspects  ...          8.1  4.749035\n",
              "5      947                     Lawrence of Arabia  ...          7.8  4.738934\n",
              "6       68                                 Brazil  ...          7.5  4.724393\n",
              "\n",
              "[10 rows x 5 columns]"
            ]
          },
          "metadata": {
            "tags": []
          },
          "execution_count": 42
        }
      ]
    },
    {
      "cell_type": "markdown",
      "metadata": {
        "id": "Fh1O6ysfjXBA"
      },
      "source": [
        "# <font color=4169E1> Baseado em Filtro Híbrido"
      ]
    },
    {
      "cell_type": "code",
      "metadata": {
        "id": "f8hyu5WVI-PN"
      },
      "source": [
        "def filtragem_hibrida(usuarioId, titulo):\n",
        "    # Pega o Index do filme pelo título\n",
        "    idx = indices[titulo]    \n",
        "\n",
        "    # Pega a similaridade de acordo com esse Id nessa matrix de similaridades\n",
        "    sim_scores = list(enumerate(similaridade_1[int(idx)]))\n",
        "    sim_scores = sorted(sim_scores, key=lambda x: x[1], reverse=True)\n",
        "    sim_scores = sim_scores[1:500]\n",
        "\n",
        "    # Pega o filmeId dos filmes\n",
        "    filme_indices = [i[0] for i in sim_scores]\n",
        "\n",
        "\n",
        "    # Copia a base de filmes, para por um campo de similaridade para esse filme especifico\n",
        "    filmes_similares = filmes.copy().iloc[filme_indices]\n",
        "\n",
        "    # Preve a nota do usuario para os 500 filmes mais similares\n",
        "    filmes_similares['est'] = filmes_similares['filmeId'].apply(lambda x: svd.predict(usuarioId, x).est)\n",
        "\n",
        "    # Ordena os filmes pela nota prevista\n",
        "    filmes_similares = filmes_similares.sort_values('est', ascending=False)\n",
        "    return filmes_similares[['filmeId', 'titulo', 'total_notas', 'media_notas', 'est']].head(10)"
      ],
      "execution_count": null,
      "outputs": []
    },
    {
      "cell_type": "code",
      "metadata": {
        "id": "Ci7MpidHPEeU",
        "outputId": "6cb42f20-c4ff-4aa1-9e13-c1abc6db5839",
        "colab": {
          "base_uri": "https://localhost:8080/",
          "height": 340
        }
      },
      "source": [
        "# Um usuário qualquer\n",
        "filtragem_hibrida(5, 'The Dark Knight')"
      ],
      "execution_count": null,
      "outputs": [
        {
          "output_type": "execute_result",
          "data": {
            "text/html": [
              "<div>\n",
              "<style scoped>\n",
              "    .dataframe tbody tr th:only-of-type {\n",
              "        vertical-align: middle;\n",
              "    }\n",
              "\n",
              "    .dataframe tbody tr th {\n",
              "        vertical-align: top;\n",
              "    }\n",
              "\n",
              "    .dataframe thead th {\n",
              "        text-align: right;\n",
              "    }\n",
              "</style>\n",
              "<table border=\"1\" class=\"dataframe\">\n",
              "  <thead>\n",
              "    <tr style=\"text-align: right;\">\n",
              "      <th></th>\n",
              "      <th>filmeId</th>\n",
              "      <th>titulo</th>\n",
              "      <th>total_notas</th>\n",
              "      <th>media_notas</th>\n",
              "      <th>est</th>\n",
              "    </tr>\n",
              "  </thead>\n",
              "  <tbody>\n",
              "    <tr>\n",
              "      <th>3337</th>\n",
              "      <td>238</td>\n",
              "      <td>The Godfather</td>\n",
              "      <td>5893</td>\n",
              "      <td>8.4</td>\n",
              "      <td>4.451100</td>\n",
              "    </tr>\n",
              "    <tr>\n",
              "      <th>3750</th>\n",
              "      <td>5925</td>\n",
              "      <td>The Great Escape</td>\n",
              "      <td>717</td>\n",
              "      <td>7.8</td>\n",
              "      <td>4.122131</td>\n",
              "    </tr>\n",
              "    <tr>\n",
              "      <th>2536</th>\n",
              "      <td>11778</td>\n",
              "      <td>The Deer Hunter</td>\n",
              "      <td>921</td>\n",
              "      <td>7.8</td>\n",
              "      <td>4.115243</td>\n",
              "    </tr>\n",
              "    <tr>\n",
              "      <th>3</th>\n",
              "      <td>49026</td>\n",
              "      <td>The Dark Knight Rises</td>\n",
              "      <td>9106</td>\n",
              "      <td>7.6</td>\n",
              "      <td>4.028920</td>\n",
              "    </tr>\n",
              "    <tr>\n",
              "      <th>277</th>\n",
              "      <td>36557</td>\n",
              "      <td>Casino Royale</td>\n",
              "      <td>3855</td>\n",
              "      <td>7.3</td>\n",
              "      <td>4.005795</td>\n",
              "    </tr>\n",
              "    <tr>\n",
              "      <th>3454</th>\n",
              "      <td>629</td>\n",
              "      <td>The Usual Suspects</td>\n",
              "      <td>3254</td>\n",
              "      <td>8.1</td>\n",
              "      <td>3.963189</td>\n",
              "    </tr>\n",
              "    <tr>\n",
              "      <th>2860</th>\n",
              "      <td>387</td>\n",
              "      <td>Das Boot</td>\n",
              "      <td>613</td>\n",
              "      <td>7.9</td>\n",
              "      <td>3.958818</td>\n",
              "    </tr>\n",
              "    <tr>\n",
              "      <th>127</th>\n",
              "      <td>76341</td>\n",
              "      <td>Mad Max: Fury Road</td>\n",
              "      <td>9427</td>\n",
              "      <td>7.2</td>\n",
              "      <td>3.950224</td>\n",
              "    </tr>\n",
              "    <tr>\n",
              "      <th>571</th>\n",
              "      <td>16869</td>\n",
              "      <td>Inglourious Basterds</td>\n",
              "      <td>6430</td>\n",
              "      <td>7.9</td>\n",
              "      <td>3.919358</td>\n",
              "    </tr>\n",
              "    <tr>\n",
              "      <th>351</th>\n",
              "      <td>1422</td>\n",
              "      <td>The Departed</td>\n",
              "      <td>4339</td>\n",
              "      <td>7.9</td>\n",
              "      <td>3.894412</td>\n",
              "    </tr>\n",
              "  </tbody>\n",
              "</table>\n",
              "</div>"
            ],
            "text/plain": [
              "      filmeId                 titulo  total_notas  media_notas       est\n",
              "3337      238          The Godfather         5893          8.4  4.451100\n",
              "3750     5925       The Great Escape          717          7.8  4.122131\n",
              "2536    11778        The Deer Hunter          921          7.8  4.115243\n",
              "3       49026  The Dark Knight Rises         9106          7.6  4.028920\n",
              "277     36557          Casino Royale         3855          7.3  4.005795\n",
              "3454      629     The Usual Suspects         3254          8.1  3.963189\n",
              "2860      387               Das Boot          613          7.9  3.958818\n",
              "127     76341     Mad Max: Fury Road         9427          7.2  3.950224\n",
              "571     16869   Inglourious Basterds         6430          7.9  3.919358\n",
              "351      1422           The Departed         4339          7.9  3.894412"
            ]
          },
          "metadata": {
            "tags": []
          },
          "execution_count": 44
        }
      ]
    },
    {
      "cell_type": "code",
      "metadata": {
        "id": "IeQHBBvxoMSB",
        "outputId": "469deefd-1d15-4ba8-a571-13cff79a9f7d",
        "colab": {
          "base_uri": "https://localhost:8080/",
          "height": 340
        }
      },
      "source": [
        "# O usuário criado por nós\n",
        "filtragem_hibrida(1000, 'The Dark Knight')"
      ],
      "execution_count": null,
      "outputs": [
        {
          "output_type": "execute_result",
          "data": {
            "text/html": [
              "<div>\n",
              "<style scoped>\n",
              "    .dataframe tbody tr th:only-of-type {\n",
              "        vertical-align: middle;\n",
              "    }\n",
              "\n",
              "    .dataframe tbody tr th {\n",
              "        vertical-align: top;\n",
              "    }\n",
              "\n",
              "    .dataframe thead th {\n",
              "        text-align: right;\n",
              "    }\n",
              "</style>\n",
              "<table border=\"1\" class=\"dataframe\">\n",
              "  <thead>\n",
              "    <tr style=\"text-align: right;\">\n",
              "      <th></th>\n",
              "      <th>filmeId</th>\n",
              "      <th>titulo</th>\n",
              "      <th>total_notas</th>\n",
              "      <th>media_notas</th>\n",
              "      <th>est</th>\n",
              "    </tr>\n",
              "  </thead>\n",
              "  <tbody>\n",
              "    <tr>\n",
              "      <th>351</th>\n",
              "      <td>1422</td>\n",
              "      <td>The Departed</td>\n",
              "      <td>4339</td>\n",
              "      <td>7.9</td>\n",
              "      <td>4.768633</td>\n",
              "    </tr>\n",
              "    <tr>\n",
              "      <th>571</th>\n",
              "      <td>16869</td>\n",
              "      <td>Inglourious Basterds</td>\n",
              "      <td>6430</td>\n",
              "      <td>7.9</td>\n",
              "      <td>4.756448</td>\n",
              "    </tr>\n",
              "    <tr>\n",
              "      <th>3454</th>\n",
              "      <td>629</td>\n",
              "      <td>The Usual Suspects</td>\n",
              "      <td>3254</td>\n",
              "      <td>8.1</td>\n",
              "      <td>4.749035</td>\n",
              "    </tr>\n",
              "    <tr>\n",
              "      <th>3841</th>\n",
              "      <td>765</td>\n",
              "      <td>Evil Dead II</td>\n",
              "      <td>742</td>\n",
              "      <td>7.6</td>\n",
              "      <td>4.617462</td>\n",
              "    </tr>\n",
              "    <tr>\n",
              "      <th>3337</th>\n",
              "      <td>238</td>\n",
              "      <td>The Godfather</td>\n",
              "      <td>5893</td>\n",
              "      <td>8.4</td>\n",
              "      <td>4.548022</td>\n",
              "    </tr>\n",
              "    <tr>\n",
              "      <th>1829</th>\n",
              "      <td>6977</td>\n",
              "      <td>No Country for Old Men</td>\n",
              "      <td>3003</td>\n",
              "      <td>7.7</td>\n",
              "      <td>4.498377</td>\n",
              "    </tr>\n",
              "    <tr>\n",
              "      <th>2839</th>\n",
              "      <td>10220</td>\n",
              "      <td>Rounders</td>\n",
              "      <td>439</td>\n",
              "      <td>6.9</td>\n",
              "      <td>4.483854</td>\n",
              "    </tr>\n",
              "    <tr>\n",
              "      <th>510</th>\n",
              "      <td>9693</td>\n",
              "      <td>Children of Men</td>\n",
              "      <td>2071</td>\n",
              "      <td>7.4</td>\n",
              "      <td>4.453172</td>\n",
              "    </tr>\n",
              "    <tr>\n",
              "      <th>3075</th>\n",
              "      <td>1640</td>\n",
              "      <td>Crash</td>\n",
              "      <td>1149</td>\n",
              "      <td>7.2</td>\n",
              "      <td>4.451489</td>\n",
              "    </tr>\n",
              "    <tr>\n",
              "      <th>287</th>\n",
              "      <td>68718</td>\n",
              "      <td>Django Unchained</td>\n",
              "      <td>10099</td>\n",
              "      <td>7.8</td>\n",
              "      <td>4.440450</td>\n",
              "    </tr>\n",
              "  </tbody>\n",
              "</table>\n",
              "</div>"
            ],
            "text/plain": [
              "      filmeId                  titulo  total_notas  media_notas       est\n",
              "351      1422            The Departed         4339          7.9  4.768633\n",
              "571     16869    Inglourious Basterds         6430          7.9  4.756448\n",
              "3454      629      The Usual Suspects         3254          8.1  4.749035\n",
              "3841      765            Evil Dead II          742          7.6  4.617462\n",
              "3337      238           The Godfather         5893          8.4  4.548022\n",
              "1829     6977  No Country for Old Men         3003          7.7  4.498377\n",
              "2839    10220                Rounders          439          6.9  4.483854\n",
              "510      9693         Children of Men         2071          7.4  4.453172\n",
              "3075     1640                   Crash         1149          7.2  4.451489\n",
              "287     68718        Django Unchained        10099          7.8  4.440450"
            ]
          },
          "metadata": {
            "tags": []
          },
          "execution_count": 45
        }
      ]
    }
  ]
}